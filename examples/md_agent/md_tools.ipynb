{
 "cells": [
  {
   "cell_type": "code",
   "execution_count": 1,
   "metadata": {},
   "outputs": [
    {
     "name": "stderr",
     "output_type": "stream",
     "text": [
      "Warning: importing 'simtk.openmm' is deprecated.  Import 'openmm' instead.\n",
      "/nfs/lambda_stor_01/homes/heng.ma/mamba/envs/md_agent/lib/python3.9/site-packages/Bio/Application/__init__.py:39: BiopythonDeprecationWarning: The Bio.Application modules and modules relying on it have been deprecated.\n",
      "\n",
      "Due to the on going maintenance burden of keeping command line application\n",
      "wrappers up to date, we have decided to deprecate and eventually remove these\n",
      "modules.\n",
      "\n",
      "We instead now recommend building your command line and invoking it directly\n",
      "with the subprocess module.\n",
      "  warnings.warn(\n"
     ]
    }
   ],
   "source": [
    "from typing import Literal\n",
    "\n",
    "from langchain_openai import ChatOpenAI\n",
    "from langgraph.graph import StateGraph, MessagesState\n",
    "from langgraph.prebuilt import ToolNode\n",
    "\n",
    "from SimAgent.tools import download_structure, fold_sequence, simulate_structure, python_repl, tavily_tool"
   ]
  },
  {
   "cell_type": "code",
   "execution_count": 2,
   "metadata": {},
   "outputs": [],
   "source": [
    "import os\n",
    "os.environ[\"CUDA_VISIBLE_DEVICES\"]='2'"
   ]
  },
  {
   "cell_type": "code",
   "execution_count": 3,
   "metadata": {},
   "outputs": [],
   "source": [
    "tools = [download_structure, fold_sequence, simulate_structure, tavily_tool, python_repl]\n",
    "tool_node = ToolNode(tools)"
   ]
  },
  {
   "cell_type": "code",
   "execution_count": 4,
   "metadata": {},
   "outputs": [],
   "source": [
    "model_with_tools = ChatOpenAI(model=\"gpt-4o-mini\", temperature=0).bind_tools(tools)"
   ]
  },
  {
   "cell_type": "code",
   "execution_count": 5,
   "metadata": {},
   "outputs": [],
   "source": [
    "from typing import Literal\n",
    "\n",
    "from langgraph.graph import StateGraph, MessagesState, START, END\n",
    "\n",
    "def should_continue(state: MessagesState):\n",
    "    messages = state[\"messages\"]\n",
    "    last_message = messages[-1]\n",
    "    if last_message.tool_calls:\n",
    "        return \"tools\"\n",
    "    return END\n",
    "\n",
    "\n",
    "def call_model(state: MessagesState):\n",
    "    messages = state[\"messages\"]\n",
    "    response = model_with_tools.invoke(messages)\n",
    "    return {\"messages\": [response]}\n",
    "\n",
    "\n",
    "workflow = StateGraph(MessagesState)\n",
    "\n",
    "# Define the two nodes we will cycle between\n",
    "workflow.add_node(\"agent\", call_model)\n",
    "workflow.add_node(\"tools\", tool_node)\n",
    "\n",
    "workflow.add_edge(START, \"agent\")\n",
    "workflow.add_conditional_edges(\"agent\", should_continue, [\"tools\", END])\n",
    "workflow.add_edge(\"tools\", \"agent\")\n",
    "\n",
    "app = workflow.compile()"
   ]
  },
  {
   "cell_type": "code",
   "execution_count": 6,
   "metadata": {},
   "outputs": [
    {
     "data": {
      "image/png": "[encoded data removed]",
      "text/plain": [
       "<IPython.core.display.Image object>"
      ]
     },
     "metadata": {},
     "output_type": "display_data"
    }
   ],
   "source": [
    "from IPython.display import Image, display\n",
    "\n",
    "display(Image(app.get_graph().draw_png()))\n"
   ]
  },
  {
   "cell_type": "code",
   "execution_count": null,
   "metadata": {},
   "outputs": [
    {
     "name": "stdout",
     "output_type": "stream",
     "text": [
      "================================\u001b[1m Human Message \u001b[0m=================================\n",
      "\n",
      "Can you download the pdb structure of 2KKJ from PDB bank to the local dir, and run molecular dynamics simulation of it in 313 K? \n"
     ]
    },
    {
     "name": "stderr",
     "output_type": "stream",
     "text": [
      "2024-10-24 13:27:11,454 HTTP Request: POST https://api.openai.com/v1/chat/completions \"HTTP/1.1 200 OK\"\n"
     ]
    },
    {
     "name": "stdout",
     "output_type": "stream",
     "text": [
      "==================================\u001b[1m Ai Message \u001b[0m==================================\n",
      "Tool Calls:\n",
      "  download_structure (call_AwkPYUTxuilgOLQIrCPiGgLa)\n",
      " Call ID: call_AwkPYUTxuilgOLQIrCPiGgLa\n",
      "  Args:\n",
      "    pdb_code: 2KKJ\n",
      "=================================\u001b[1m Tool Message \u001b[0m=================================\n",
      "Name: download_structure\n",
      "\n",
      "Successfully retrieved 2KKJ.pdb.\n"
     ]
    },
    {
     "name": "stderr",
     "output_type": "stream",
     "text": [
      "2024-10-24 13:27:12,289 HTTP Request: POST https://api.openai.com/v1/chat/completions \"HTTP/1.1 200 OK\"\n"
     ]
    },
    {
     "name": "stdout",
     "output_type": "stream",
     "text": [
      "==================================\u001b[1m Ai Message \u001b[0m==================================\n",
      "Tool Calls:\n",
      "  simulate_structure (call_r1H3pckkAt7tuM9ZysKHIGPF)\n",
      " Call ID: call_r1H3pckkAt7tuM9ZysKHIGPF\n",
      "  Args:\n",
      "    pdb_file: 2KKJ.pdb\n",
      "    temperature: 313\n",
      "=================================\u001b[1m Tool Message \u001b[0m=================================\n",
      "Name: simulate_structure\n",
      "\n",
      "Error: 1 validation error for simulate_structure\n",
      "nonbondedCutoff\n",
      "  Field required [type=missing, input_value={'pdb_file': '2KKJ.pdb', 'temperature': 313}, input_type=dict]\n",
      "    For further information visit https://errors.pydantic.dev/2.9/v/missing\n",
      " Please fix your mistakes.\n"
     ]
    },
    {
     "name": "stderr",
     "output_type": "stream",
     "text": [
      "2024-10-24 13:27:13,097 HTTP Request: POST https://api.openai.com/v1/chat/completions \"HTTP/1.1 200 OK\"\n",
      "/nfs/lambda_stor_01/homes/heng.ma/mamba/envs/md_agent/lib/python3.9/site-packages/MDAnalysis/coordinates/PDB.py:753: UserWarning: Unit cell dimensions not found. CRYST1 record set to unitary values.\n",
      "  warnings.warn(\"Unit cell dimensions not found. \"\n",
      "/nfs/lambda_stor_01/homes/heng.ma/mamba/envs/md_agent/lib/python3.9/site-packages/MDAnalysis/coordinates/PDB.py:1129: UserWarning: Found no information for attr: 'formalcharges' Using default value of '0'\n",
      "  warnings.warn(\"Found no information for attr: '{}'\"\n"
     ]
    },
    {
     "name": "stdout",
     "output_type": "stream",
     "text": [
      "==================================\u001b[1m Ai Message \u001b[0m==================================\n",
      "Tool Calls:\n",
      "  simulate_structure (call_UmEReIR7bzWdkahg8V7RlZS6)\n",
      " Call ID: call_UmEReIR7bzWdkahg8V7RlZS6\n",
      "  Args:\n",
      "    pdb_file: 2KKJ.pdb\n",
      "    nonbondedCutoff: 1.0\n",
      "    temperature: 313\n"
     ]
    },
    {
     "name": "stderr",
     "output_type": "stream",
     "text": [
      "/nfs/lambda_stor_01/homes/heng.ma/mamba/envs/md_agent/lib/python3.9/site-packages/MDAnalysis/coordinates/PDB.py:432: UserWarning: 1 A^3 CRYST1 record, this is usually a placeholder. Unit cell dimensions will be set to None.\n",
      "  warnings.warn(\"1 A^3 CRYST1 record,\"\n",
      "2024-10-24 13:27:13,493 Topology found, skipping building _2KKJ.pdb...\n",
      "2024-10-24 13:27:32,014 Adding bonds...\n",
      "2024-10-24 13:27:33,159 Adding angles...\n",
      "2024-10-24 13:27:33,175 Adding dihedrals...\n",
      "2024-10-24 13:27:33,215 Adding Ryckaert-Bellemans torsions...\n",
      "2024-10-24 13:27:33,217 Adding Urey-Bradleys...\n",
      "2024-10-24 13:27:33,219 Adding improper torsions...\n",
      "2024-10-24 13:27:33,223 Adding CMAP torsions...\n",
      "2024-10-24 13:27:33,226 Adding trigonal angle terms...\n",
      "2024-10-24 13:27:33,228 Adding out-of-plane bends...\n",
      "2024-10-24 13:27:33,230 Adding pi-torsions...\n",
      "2024-10-24 13:27:33,231 Adding stretch-bends...\n",
      "2024-10-24 13:27:33,233 Adding torsion-torsions...\n",
      "2024-10-24 13:27:33,235 Adding Nonbonded force...\n"
     ]
    }
   ],
   "source": [
    "# example with a single tool call\n",
    "for chunk in app.stream(\n",
    "    {\n",
    "        \"messages\": [\n",
    "            (\n",
    "                \"human\",\n",
    "                \"Can you download the pdb structure of 2KKJ from PDB bank to the local dir, and run molecular dynamics simulation of it in 313 K? \",\n",
    "            )\n",
    "        ]\n",
    "    },\n",
    "    stream_mode=\"values\",\n",
    "):\n",
    "    chunk[\"messages\"][-1].pretty_print()"
   ]
  },
  {
   "cell_type": "code",
   "execution_count": null,
   "metadata": {},
   "outputs": [],
   "source": []
  }
 ],
 "metadata": {
  "kernelspec": {
   "display_name": "md_agent",
   "language": "python",
   "name": "python3"
  },
  "language_info": {
   "codemirror_mode": {
    "name": "ipython",
    "version": 3
   },
   "file_extension": ".py",
   "mimetype": "text/x-python",
   "name": "python",
   "nbconvert_exporter": "python",
   "pygments_lexer": "ipython3",
   "version": "3.9.19"
  }
 },
 "nbformat": 4,
 "nbformat_minor": 2
}
